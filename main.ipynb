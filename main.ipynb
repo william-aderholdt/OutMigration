{
 "cells": [
  {
   "cell_type": "markdown",
   "metadata": {},
   "source": [
    "This project utilizes county-level population, education, poverty, and unemployment data to better understand migration patterns, specifically out-migration patterns, in the United States.  This migration data is from 2017.  \n",
    "\n",
    "This project is going to be to do initial cleaning and exploration of this data for export into Tableau.\n",
    "\n",
    "The data used in this project came from county-level data sets from the Department of Agriculture and United States.\n",
    "\n",
    "These include:\n",
    "1. Population estimates, including migration patterns. \n",
    "2. Poverty estimates, including percent population in poverty.\n",
    "3. Unemployment, including percent unemployed and median household income.\n",
    "4. Education, including education attainment by percentage of population.\n",
    "5. Industry data, the counties primary income source.\n",
    "\n",
    "Prior to loading this project, there was minor cleaning which occurred for each of the CSVs.  This was limited to the removal of columns which were not relevant to our project.\n",
    "\n",
    "To start, we are going to load our libraries, and our CSV files.  To view these, we have printed the first from each file with the title of the file displayed above it's corresponding rows.  This gives us a good overall understanding of the data and what steps we might need to take to merge the files."
   ]
  },
  {
   "cell_type": "code",
   "execution_count": 2,
   "metadata": {},
   "outputs": [
    {
     "name": "stdout",
     "output_type": "stream",
     "text": [
      "\n",
      "PopulationEstimates\n",
      "\n",
      "   FIPS State       Area_Name  Economic_typology_2015 POP_ESTIMATE_2017  \\\n",
      "0     0    US   United States                     NaN       325,719,178   \n",
      "1  1000    AL         Alabama                     NaN         4,874,747   \n",
      "2  1001    AL  Autauga County                     0.0            55,504   \n",
      "3  1003    AL  Baldwin County                     5.0           212,628   \n",
      "4  1005    AL  Barbour County                     3.0            25,270   \n",
      "\n",
      "  Births_2017 Deaths_2017 INTERNATIONAL_MIG_2017 DOMESTIC_MIG_2017  \\\n",
      "0   3,946,000   2,744,040              1,111,283                 0   \n",
      "1      58,389      52,390                  4,475             3,840   \n",
      "2         664         510                     15                58   \n",
      "3       2,325       2,090                    164             4,702   \n",
      "4         270         286                     -3              -486   \n",
      "\n",
      "  NET_MIG_2017  \n",
      "0    1,111,283  \n",
      "1        8,315  \n",
      "2           73  \n",
      "3        4,866  \n",
      "4         -489  \n",
      "\n",
      "PovertyEstimates\n",
      "\n",
      "   FIPStxt State       Area_Name  PCTPOV517_2017 MEDHHINC_2017\n",
      "0        0    US   United States            17.3        60,336\n",
      "1     1000    AL         Alabama            22.8        48,193\n",
      "2     1001    AL  Autauga County            18.6        58,343\n",
      "3     1003    AL  Baldwin County            14.3        56,607\n",
      "4     1005    AL  Barbour County            48.8        32,490\n",
      "\n",
      "Unemployment\n",
      "\n",
      "   FIPStxt State           Area_name  Unemployment_rate_2017\n",
      "0        0    US       United States                     4.4\n",
      "1     1000    AL             Alabama                     4.4\n",
      "2     1001    AL  Autauga County, AL                     3.9\n",
      "3     1003    AL  Baldwin County, AL                     4.0\n",
      "4     1005    AL  Barbour County, AL                     5.9\n",
      "\n",
      "Education\n",
      "\n",
      "   FIPS Code State       Area name  2013 Rural-urban Continuum Code  \\\n",
      "0          0    US   United States                              NaN   \n",
      "1       1000    AL         Alabama                              NaN   \n",
      "2       1001    AL  Autauga County                              2.0   \n",
      "3       1003    AL  Baldwin County                              3.0   \n",
      "4       1005    AL  Barbour County                              6.0   \n",
      "\n",
      "   2013 Urban Influence Code  \\\n",
      "0                        NaN   \n",
      "1                        NaN   \n",
      "2                        2.0   \n",
      "3                        2.0   \n",
      "4                        6.0   \n",
      "\n",
      "   Percent of adults with less than a high school diploma, 2013-17  \\\n",
      "0                                               12.7                 \n",
      "1                                               14.7                 \n",
      "2                                               12.3                 \n",
      "3                                                9.8                 \n",
      "4                                               26.9                 \n",
      "\n",
      "   Percent of adults with a high school diploma only, 2013-17  \\\n",
      "0                                               27.3            \n",
      "1                                               30.9            \n",
      "2                                               33.6            \n",
      "3                                               27.8            \n",
      "4                                               35.5            \n",
      "\n",
      "   Percent of adults completing some college or associate's degree, 2013-17  \\\n",
      "0                                               29.1                          \n",
      "1                                               29.9                          \n",
      "2                                               29.1                          \n",
      "3                                               31.7                          \n",
      "4                                               25.5                          \n",
      "\n",
      "   Percent of adults with a bachelor's degree or higher, 2013-17  \n",
      "0                                               30.9              \n",
      "1                                               24.5              \n",
      "2                                               25.0              \n",
      "3                                               30.7              \n",
      "4                                               12.0              \n",
      "\n",
      "Manufacturing\n",
      "\n",
      "   FIPS State          County  metro  econdep  farm  mine  manf  fsgov  serv  \\\n",
      "0  1001    AL  Autauga County      1        3     0     0     1      0     0   \n",
      "1  1003    AL  Baldwin County      0        5     0     0     0      0     1   \n",
      "2  1005    AL  Barbour County      0        3     0     0     1      0     0   \n",
      "3  1007    AL     Bibb County      1        6     0     0     0      0     0   \n",
      "4  1009    AL   Blount County      1        6     0     0     0      0     0   \n",
      "\n",
      "   nonsp  \n",
      "0      0  \n",
      "1      0  \n",
      "2      0  \n",
      "3      1  \n",
      "4      1  \n"
     ]
    }
   ],
   "source": [
    "import pandas\n",
    "import numpy as np\n",
    "import matplotlib\n",
    "import seaborn\n",
    "\n",
    "files = ['PopulationEstimates.csv', 'PovertyEstimates.csv', 'Unemployment.csv', 'Education.csv', 'Manufacturing.csv']\n",
    "data = {}\n",
    "\n",
    "for f in files:\n",
    "        d = pandas.read_csv('data/{0}'.format(f))\n",
    "        data[f.replace('.csv', '')] = d\n",
    "\n",
    "for k,v in data.items():\n",
    "    print('\\n' + k + '\\n')\n",
    "    print(v.head())"
   ]
  },
  {
   "cell_type": "markdown",
   "metadata": {},
   "source": [
    "Each of these files uses similar columns which we can merge on (state, county, FIPS).  While state names are unique, several states have counties with the same name.  We are now going to create consistency within column names for merging to occur.\n",
    "\n",
    "FIPS is a federal code for locations and maintains consistency across datasets.\n",
    "\n",
    "Currently, FIPS is represented as a different name across different datasets, we are going to change the names to all be \"FIPS\".\n",
    "\n"
   ]
  },
  {
   "cell_type": "code",
   "execution_count": 3,
   "metadata": {},
   "outputs": [],
   "source": [
    "data[\"Education\"][\"FIPS\"] = data[\"Education\"][\"FIPS Code\"]\n",
    "data[\"Unemployment\"][\"FIPS\"] = data[\"Unemployment\"][\"FIPStxt\"]\n",
    "data[\"PovertyEstimates\"][\"FIPS\"] = data[\"PovertyEstimates\"][\"FIPStxt\"]"
   ]
  },
  {
   "cell_type": "markdown",
   "metadata": {},
   "source": [
    "Next we are going to merge the data using the FIPS codes provided and then evaluate the shape dataframe to make sure all of the data was appropriately merged.  We are also going to view the column names to see if there are any issues with the columns."
   ]
  },
  {
   "cell_type": "code",
   "execution_count": 4,
   "metadata": {},
   "outputs": [
    {
     "name": "stdout",
     "output_type": "stream",
     "text": [
      "FIPS\n",
      "State_x\n",
      "Area_Name_x\n",
      "Economic_typology_2015\n",
      "POP_ESTIMATE_2017\n",
      "Births_2017\n",
      "Deaths_2017\n",
      "INTERNATIONAL_MIG_2017\n",
      "DOMESTIC_MIG_2017\n",
      "NET_MIG_2017\n",
      "FIPStxt_x\n",
      "State_y\n",
      "Area_Name_y\n",
      "PCTPOV517_2017\n",
      "MEDHHINC_2017\n",
      "FIPStxt_y\n",
      "State_x\n",
      "Area_name\n",
      "Unemployment_rate_2017\n",
      "FIPS Code\n",
      "State_y\n",
      "Area name\n",
      "2013 Rural-urban Continuum Code\n",
      "2013 Urban Influence Code\n",
      "Percent of adults with less than a high school diploma, 2013-17\n",
      "Percent of adults with a high school diploma only, 2013-17\n",
      "Percent of adults completing some college or associate's degree, 2013-17\n",
      "Percent of adults with a bachelor's degree or higher, 2013-17\n",
      "State\n",
      "County\n",
      "metro\n",
      "econdep\n",
      "farm\n",
      "mine\n",
      "manf\n",
      "fsgov\n",
      "serv\n",
      "nonsp\n"
     ]
    }
   ],
   "source": [
    "flat_data_names = [k for k,v in data.items()]\n",
    "flat_data = [data[k] for k in flat_data_names]\n",
    "df = flat_data[0]\n",
    "\n",
    "for i, f in enumerate(flat_data[1:]):\n",
    "    name = flat_data_names[i+1]\n",
    "    df = df.merge(f, on=\"FIPS\", how=\"inner\")\n",
    "    \n",
    "df.shape\n",
    "\n",
    "for f in df:\n",
    "    print(f)"
   ]
  },
  {
   "cell_type": "markdown",
   "metadata": {},
   "source": [
    "Following the merging of the datasets, there are quite a few unnecessary columns in this dataframe.  Next, we are going to remove unnecessary columns from the dataframe.\n",
    "\n",
    "We are also going to view the data types of each of the columns to see if there are any issues with how the data is formated."
   ]
  },
  {
   "cell_type": "code",
   "execution_count": 5,
   "metadata": {},
   "outputs": [
    {
     "data": {
      "text/plain": [
       "FIPS                                                                          int64\n",
       "Economic_typology_2015                                                      float64\n",
       "POP_ESTIMATE_2017                                                            object\n",
       "Births_2017                                                                  object\n",
       "Deaths_2017                                                                  object\n",
       "INTERNATIONAL_MIG_2017                                                       object\n",
       "DOMESTIC_MIG_2017                                                            object\n",
       "NET_MIG_2017                                                                 object\n",
       "PCTPOV517_2017                                                              float64\n",
       "MEDHHINC_2017                                                                object\n",
       "Unemployment_rate_2017                                                      float64\n",
       "2013 Rural-urban Continuum Code                                             float64\n",
       "2013 Urban Influence Code                                                   float64\n",
       "Percent of adults with less than a high school diploma, 2013-17             float64\n",
       "Percent of adults with a high school diploma only, 2013-17                  float64\n",
       "Percent of adults completing some college or associate's degree, 2013-17    float64\n",
       "Percent of adults with a bachelor's degree or higher, 2013-17               float64\n",
       "State                                                                        object\n",
       "County                                                                       object\n",
       "metro                                                                         int64\n",
       "econdep                                                                       int64\n",
       "farm                                                                          int64\n",
       "mine                                                                          int64\n",
       "manf                                                                          int64\n",
       "fsgov                                                                         int64\n",
       "serv                                                                          int64\n",
       "nonsp                                                                         int64\n",
       "dtype: object"
      ]
     },
     "execution_count": 5,
     "metadata": {},
     "output_type": "execute_result"
    }
   ],
   "source": [
    "df = df.drop(columns=['State_x', 'State_y', 'Area name', \n",
    "                      'Area_name', 'Area_Name_x', 'Area_Name_y', \n",
    "                      'FIPStxt_x', 'FIPStxt_y', 'FIPS Code'])\n",
    "\n",
    "df.dtypes"
   ]
  },
  {
   "cell_type": "markdown",
   "metadata": {},
   "source": [
    "Several of the columns are coming up as strings.  If we take a look at the head, we can determine what is causing this. To get a more accurate picture, we are going to print the top 10 rows."
   ]
  },
  {
   "cell_type": "code",
   "execution_count": 6,
   "metadata": {},
   "outputs": [
    {
     "data": {
      "text/html": [
       "<div>\n",
       "<style scoped>\n",
       "    .dataframe tbody tr th:only-of-type {\n",
       "        vertical-align: middle;\n",
       "    }\n",
       "\n",
       "    .dataframe tbody tr th {\n",
       "        vertical-align: top;\n",
       "    }\n",
       "\n",
       "    .dataframe thead th {\n",
       "        text-align: right;\n",
       "    }\n",
       "</style>\n",
       "<table border=\"1\" class=\"dataframe\">\n",
       "  <thead>\n",
       "    <tr style=\"text-align: right;\">\n",
       "      <th></th>\n",
       "      <th>FIPS</th>\n",
       "      <th>Economic_typology_2015</th>\n",
       "      <th>POP_ESTIMATE_2017</th>\n",
       "      <th>Births_2017</th>\n",
       "      <th>Deaths_2017</th>\n",
       "      <th>INTERNATIONAL_MIG_2017</th>\n",
       "      <th>DOMESTIC_MIG_2017</th>\n",
       "      <th>NET_MIG_2017</th>\n",
       "      <th>PCTPOV517_2017</th>\n",
       "      <th>MEDHHINC_2017</th>\n",
       "      <th>...</th>\n",
       "      <th>State</th>\n",
       "      <th>County</th>\n",
       "      <th>metro</th>\n",
       "      <th>econdep</th>\n",
       "      <th>farm</th>\n",
       "      <th>mine</th>\n",
       "      <th>manf</th>\n",
       "      <th>fsgov</th>\n",
       "      <th>serv</th>\n",
       "      <th>nonsp</th>\n",
       "    </tr>\n",
       "  </thead>\n",
       "  <tbody>\n",
       "    <tr>\n",
       "      <th>0</th>\n",
       "      <td>1001</td>\n",
       "      <td>0.0</td>\n",
       "      <td>55,504</td>\n",
       "      <td>664</td>\n",
       "      <td>510</td>\n",
       "      <td>15</td>\n",
       "      <td>58</td>\n",
       "      <td>73</td>\n",
       "      <td>18.6</td>\n",
       "      <td>58,343</td>\n",
       "      <td>...</td>\n",
       "      <td>AL</td>\n",
       "      <td>Autauga County</td>\n",
       "      <td>1</td>\n",
       "      <td>3</td>\n",
       "      <td>0</td>\n",
       "      <td>0</td>\n",
       "      <td>1</td>\n",
       "      <td>0</td>\n",
       "      <td>0</td>\n",
       "      <td>0</td>\n",
       "    </tr>\n",
       "    <tr>\n",
       "      <th>1</th>\n",
       "      <td>1003</td>\n",
       "      <td>5.0</td>\n",
       "      <td>212,628</td>\n",
       "      <td>2,325</td>\n",
       "      <td>2,090</td>\n",
       "      <td>164</td>\n",
       "      <td>4,702</td>\n",
       "      <td>4,866</td>\n",
       "      <td>14.3</td>\n",
       "      <td>56,607</td>\n",
       "      <td>...</td>\n",
       "      <td>AL</td>\n",
       "      <td>Baldwin County</td>\n",
       "      <td>0</td>\n",
       "      <td>5</td>\n",
       "      <td>0</td>\n",
       "      <td>0</td>\n",
       "      <td>0</td>\n",
       "      <td>0</td>\n",
       "      <td>1</td>\n",
       "      <td>0</td>\n",
       "    </tr>\n",
       "    <tr>\n",
       "      <th>2</th>\n",
       "      <td>1005</td>\n",
       "      <td>3.0</td>\n",
       "      <td>25,270</td>\n",
       "      <td>270</td>\n",
       "      <td>286</td>\n",
       "      <td>-3</td>\n",
       "      <td>-486</td>\n",
       "      <td>-489</td>\n",
       "      <td>48.8</td>\n",
       "      <td>32,490</td>\n",
       "      <td>...</td>\n",
       "      <td>AL</td>\n",
       "      <td>Barbour County</td>\n",
       "      <td>0</td>\n",
       "      <td>3</td>\n",
       "      <td>0</td>\n",
       "      <td>0</td>\n",
       "      <td>1</td>\n",
       "      <td>0</td>\n",
       "      <td>0</td>\n",
       "      <td>0</td>\n",
       "    </tr>\n",
       "    <tr>\n",
       "      <th>3</th>\n",
       "      <td>1007</td>\n",
       "      <td>0.0</td>\n",
       "      <td>22,668</td>\n",
       "      <td>270</td>\n",
       "      <td>233</td>\n",
       "      <td>20</td>\n",
       "      <td>-20</td>\n",
       "      <td>0</td>\n",
       "      <td>26.8</td>\n",
       "      <td>45,795</td>\n",
       "      <td>...</td>\n",
       "      <td>AL</td>\n",
       "      <td>Bibb County</td>\n",
       "      <td>1</td>\n",
       "      <td>6</td>\n",
       "      <td>0</td>\n",
       "      <td>0</td>\n",
       "      <td>0</td>\n",
       "      <td>0</td>\n",
       "      <td>0</td>\n",
       "      <td>1</td>\n",
       "    </tr>\n",
       "    <tr>\n",
       "      <th>4</th>\n",
       "      <td>1009</td>\n",
       "      <td>0.0</td>\n",
       "      <td>58,013</td>\n",
       "      <td>685</td>\n",
       "      <td>653</td>\n",
       "      <td>62</td>\n",
       "      <td>359</td>\n",
       "      <td>421</td>\n",
       "      <td>17.7</td>\n",
       "      <td>48,253</td>\n",
       "      <td>...</td>\n",
       "      <td>AL</td>\n",
       "      <td>Blount County</td>\n",
       "      <td>1</td>\n",
       "      <td>6</td>\n",
       "      <td>0</td>\n",
       "      <td>0</td>\n",
       "      <td>0</td>\n",
       "      <td>0</td>\n",
       "      <td>0</td>\n",
       "      <td>1</td>\n",
       "    </tr>\n",
       "    <tr>\n",
       "      <th>5</th>\n",
       "      <td>1011</td>\n",
       "      <td>3.0</td>\n",
       "      <td>10,309</td>\n",
       "      <td>138</td>\n",
       "      <td>118</td>\n",
       "      <td>18</td>\n",
       "      <td>-170</td>\n",
       "      <td>-152</td>\n",
       "      <td>49.0</td>\n",
       "      <td>29,113</td>\n",
       "      <td>...</td>\n",
       "      <td>AL</td>\n",
       "      <td>Bullock County</td>\n",
       "      <td>0</td>\n",
       "      <td>1</td>\n",
       "      <td>1</td>\n",
       "      <td>0</td>\n",
       "      <td>0</td>\n",
       "      <td>0</td>\n",
       "      <td>0</td>\n",
       "      <td>0</td>\n",
       "    </tr>\n",
       "    <tr>\n",
       "      <th>6</th>\n",
       "      <td>1013</td>\n",
       "      <td>0.0</td>\n",
       "      <td>19,825</td>\n",
       "      <td>228</td>\n",
       "      <td>253</td>\n",
       "      <td>7</td>\n",
       "      <td>-121</td>\n",
       "      <td>-114</td>\n",
       "      <td>31.8</td>\n",
       "      <td>36,842</td>\n",
       "      <td>...</td>\n",
       "      <td>AL</td>\n",
       "      <td>Butler County</td>\n",
       "      <td>0</td>\n",
       "      <td>6</td>\n",
       "      <td>0</td>\n",
       "      <td>0</td>\n",
       "      <td>0</td>\n",
       "      <td>0</td>\n",
       "      <td>0</td>\n",
       "      <td>1</td>\n",
       "    </tr>\n",
       "    <tr>\n",
       "      <th>7</th>\n",
       "      <td>1015</td>\n",
       "      <td>4.0</td>\n",
       "      <td>114,728</td>\n",
       "      <td>1,342</td>\n",
       "      <td>1,427</td>\n",
       "      <td>82</td>\n",
       "      <td>-247</td>\n",
       "      <td>-165</td>\n",
       "      <td>22.2</td>\n",
       "      <td>45,937</td>\n",
       "      <td>...</td>\n",
       "      <td>AL</td>\n",
       "      <td>Calhoun County</td>\n",
       "      <td>1</td>\n",
       "      <td>4</td>\n",
       "      <td>0</td>\n",
       "      <td>0</td>\n",
       "      <td>0</td>\n",
       "      <td>1</td>\n",
       "      <td>0</td>\n",
       "      <td>0</td>\n",
       "    </tr>\n",
       "    <tr>\n",
       "      <th>8</th>\n",
       "      <td>1017</td>\n",
       "      <td>0.0</td>\n",
       "      <td>33,713</td>\n",
       "      <td>384</td>\n",
       "      <td>468</td>\n",
       "      <td>17</td>\n",
       "      <td>65</td>\n",
       "      <td>82</td>\n",
       "      <td>30.1</td>\n",
       "      <td>36,883</td>\n",
       "      <td>...</td>\n",
       "      <td>AL</td>\n",
       "      <td>Chambers County</td>\n",
       "      <td>0</td>\n",
       "      <td>3</td>\n",
       "      <td>0</td>\n",
       "      <td>0</td>\n",
       "      <td>1</td>\n",
       "      <td>0</td>\n",
       "      <td>0</td>\n",
       "      <td>0</td>\n",
       "    </tr>\n",
       "    <tr>\n",
       "      <th>9</th>\n",
       "      <td>1019</td>\n",
       "      <td>0.0</td>\n",
       "      <td>25,857</td>\n",
       "      <td>244</td>\n",
       "      <td>338</td>\n",
       "      <td>7</td>\n",
       "      <td>178</td>\n",
       "      <td>185</td>\n",
       "      <td>23.3</td>\n",
       "      <td>44,842</td>\n",
       "      <td>...</td>\n",
       "      <td>AL</td>\n",
       "      <td>Cherokee County</td>\n",
       "      <td>0</td>\n",
       "      <td>6</td>\n",
       "      <td>0</td>\n",
       "      <td>0</td>\n",
       "      <td>0</td>\n",
       "      <td>0</td>\n",
       "      <td>0</td>\n",
       "      <td>1</td>\n",
       "    </tr>\n",
       "  </tbody>\n",
       "</table>\n",
       "<p>10 rows × 27 columns</p>\n",
       "</div>"
      ],
      "text/plain": [
       "   FIPS  Economic_typology_2015 POP_ESTIMATE_2017 Births_2017 Deaths_2017  \\\n",
       "0  1001                     0.0            55,504         664         510   \n",
       "1  1003                     5.0           212,628       2,325       2,090   \n",
       "2  1005                     3.0            25,270         270         286   \n",
       "3  1007                     0.0            22,668         270         233   \n",
       "4  1009                     0.0            58,013         685         653   \n",
       "5  1011                     3.0            10,309         138         118   \n",
       "6  1013                     0.0            19,825         228         253   \n",
       "7  1015                     4.0           114,728       1,342       1,427   \n",
       "8  1017                     0.0            33,713         384         468   \n",
       "9  1019                     0.0            25,857         244         338   \n",
       "\n",
       "  INTERNATIONAL_MIG_2017 DOMESTIC_MIG_2017 NET_MIG_2017  PCTPOV517_2017  \\\n",
       "0                     15                58           73            18.6   \n",
       "1                    164             4,702        4,866            14.3   \n",
       "2                     -3              -486         -489            48.8   \n",
       "3                     20               -20            0            26.8   \n",
       "4                     62               359          421            17.7   \n",
       "5                     18              -170         -152            49.0   \n",
       "6                      7              -121         -114            31.8   \n",
       "7                     82              -247         -165            22.2   \n",
       "8                     17                65           82            30.1   \n",
       "9                      7               178          185            23.3   \n",
       "\n",
       "  MEDHHINC_2017  ...  State           County  metro  econdep  farm  mine  \\\n",
       "0        58,343  ...     AL   Autauga County      1        3     0     0   \n",
       "1        56,607  ...     AL   Baldwin County      0        5     0     0   \n",
       "2        32,490  ...     AL   Barbour County      0        3     0     0   \n",
       "3        45,795  ...     AL      Bibb County      1        6     0     0   \n",
       "4        48,253  ...     AL    Blount County      1        6     0     0   \n",
       "5        29,113  ...     AL   Bullock County      0        1     1     0   \n",
       "6        36,842  ...     AL    Butler County      0        6     0     0   \n",
       "7        45,937  ...     AL   Calhoun County      1        4     0     0   \n",
       "8        36,883  ...     AL  Chambers County      0        3     0     0   \n",
       "9        44,842  ...     AL  Cherokee County      0        6     0     0   \n",
       "\n",
       "   manf fsgov serv  nonsp  \n",
       "0     1     0    0      0  \n",
       "1     0     0    1      0  \n",
       "2     1     0    0      0  \n",
       "3     0     0    0      1  \n",
       "4     0     0    0      1  \n",
       "5     0     0    0      0  \n",
       "6     0     0    0      1  \n",
       "7     0     1    0      0  \n",
       "8     1     0    0      0  \n",
       "9     0     0    0      1  \n",
       "\n",
       "[10 rows x 27 columns]"
      ]
     },
     "execution_count": 6,
     "metadata": {},
     "output_type": "execute_result"
    }
   ],
   "source": [
    "df.head(10)"
   ]
  },
  {
   "cell_type": "markdown",
   "metadata": {},
   "source": [
    "Two columns are utilizing commas, which are making the data read as strings.  First, we are going to remove those commas.  Next, we are going to take all columns listed as the datatype object which shouldn't be, and convert them to numeric types. We are going to keep state, county, and area name as object.\n",
    "\n",
    "To make sure these convert correctly, we are going to reevaluate the datatypes of the dataframe."
   ]
  },
  {
   "cell_type": "code",
   "execution_count": 7,
   "metadata": {},
   "outputs": [
    {
     "data": {
      "text/plain": [
       "FIPS                                                                          int64\n",
       "Economic_typology_2015                                                      float64\n",
       "POP_ESTIMATE_2017                                                             int64\n",
       "Births_2017                                                                 float64\n",
       "Deaths_2017                                                                 float64\n",
       "INTERNATIONAL_MIG_2017                                                      float64\n",
       "DOMESTIC_MIG_2017                                                           float64\n",
       "NET_MIG_2017                                                                float64\n",
       "PCTPOV517_2017                                                              float64\n",
       "MEDHHINC_2017                                                                 int64\n",
       "Unemployment_rate_2017                                                      float64\n",
       "2013 Rural-urban Continuum Code                                             float64\n",
       "2013 Urban Influence Code                                                   float64\n",
       "Percent of adults with less than a high school diploma, 2013-17             float64\n",
       "Percent of adults with a high school diploma only, 2013-17                  float64\n",
       "Percent of adults completing some college or associate's degree, 2013-17    float64\n",
       "Percent of adults with a bachelor's degree or higher, 2013-17               float64\n",
       "State                                                                        object\n",
       "County                                                                       object\n",
       "metro                                                                         int64\n",
       "econdep                                                                       int64\n",
       "farm                                                                          int64\n",
       "mine                                                                          int64\n",
       "manf                                                                          int64\n",
       "fsgov                                                                         int64\n",
       "serv                                                                          int64\n",
       "nonsp                                                                         int64\n",
       "dtype: object"
      ]
     },
     "execution_count": 7,
     "metadata": {},
     "output_type": "execute_result"
    }
   ],
   "source": [
    "df['MEDHHINC_2017'] = df['MEDHHINC_2017'].str.replace(\",\",\"\")\n",
    "df['POP_ESTIMATE_2017'] = df['POP_ESTIMATE_2017'].str.replace(\",\",\"\")\n",
    "\n",
    "cols = ['POP_ESTIMATE_2017', 'Births_2017', 'Deaths_2017', \n",
    "        'INTERNATIONAL_MIG_2017', 'DOMESTIC_MIG_2017', \n",
    "        'NET_MIG_2017', 'MEDHHINC_2017']\n",
    "\n",
    "for f in cols:\n",
    "    df[f] = df[f].apply(pandas.to_numeric, errors='coerce')\n",
    "\n",
    "df.dtypes"
   ]
  },
  {
   "cell_type": "markdown",
   "metadata": {},
   "source": [
    "All of the columns converted to the appropriate data type.  This means we are at a place where we can start exploring this data and the dependent variable:\"NET_MIG_2017\".\n",
    "\n",
    "We are going to start with a correlation.  Since this analysis is looking at factors which contribute to out-migration, we are particularly interested in negative correlations.  "
   ]
  },
  {
   "cell_type": "code",
   "execution_count": 8,
   "metadata": {},
   "outputs": [
    {
     "data": {
      "text/plain": [
       "FIPS                                                                        0.029989\n",
       "Economic_typology_2015                                                      0.061812\n",
       "POP_ESTIMATE_2017                                                           0.011303\n",
       "Births_2017                                                                 0.098079\n",
       "Deaths_2017                                                                 0.164579\n",
       "INTERNATIONAL_MIG_2017                                                      0.051105\n",
       "DOMESTIC_MIG_2017                                                           0.925902\n",
       "NET_MIG_2017                                                                1.000000\n",
       "PCTPOV517_2017                                                             -0.207213\n",
       "MEDHHINC_2017                                                               0.219069\n",
       "Unemployment_rate_2017                                                     -0.161925\n",
       "2013 Rural-urban Continuum Code                                            -0.174516\n",
       "2013 Urban Influence Code                                                  -0.192801\n",
       "Percent of adults with less than a high school diploma, 2013-17            -0.161590\n",
       "Percent of adults with a high school diploma only, 2013-17                 -0.120520\n",
       "Percent of adults completing some college or associate's degree, 2013-17    0.065920\n",
       "Percent of adults with a bachelor's degree or higher, 2013-17               0.190761\n",
       "metro                                                                       0.189732\n",
       "econdep                                                                     0.103924\n",
       "farm                                                                       -0.058129\n",
       "mine                                                                       -0.134521\n",
       "manf                                                                        0.014616\n",
       "fsgov                                                                      -0.015981\n",
       "serv                                                                        0.081378\n",
       "nonsp                                                                       0.057021\n",
       "Name: NET_MIG_2017, dtype: float64"
      ]
     },
     "execution_count": 8,
     "metadata": {},
     "output_type": "execute_result"
    }
   ],
   "source": [
    "df.corr()['NET_MIG_2017']"
   ]
  },
  {
   "cell_type": "markdown",
   "metadata": {},
   "source": [
    "Based on the correlation the following factors are correlated with out-migration: percent of people in poverty, unemployment rate, higher rural-urban continuum codes, higher urban influence codes, percent of adults with less than a high school diploma, percent of adults with only a high school diploma, farming focused counties, and mining focused counties.\n",
    "\n",
    "While reliance on federal government for county income is negatively correlated with net migration, this relationship seems to be very weak.\n",
    "\n",
    "With this information, we are going to evaluate the six independent variables which have the strongest negative correlation with net migration."
   ]
  },
  {
   "cell_type": "code",
   "execution_count": 11,
   "metadata": {},
   "outputs": [
    {
     "data": {
      "text/plain": [
       "<matplotlib.axes._subplots.AxesSubplot at 0x161ccd4a828>"
      ]
     },
     "execution_count": 11,
     "metadata": {},
     "output_type": "execute_result"
    },
    {
     "data": {
      "image/png": "[encoded data removed]",
      "text/plain": [
       "<Figure size 432x288 with 1 Axes>"
      ]
     },
     "metadata": {
      "needs_background": "light"
     },
     "output_type": "display_data"
    }
   ],
   "source": [
    "df.corr()['NET_MIG_2017'][['PCTPOV517_2017', '2013 Urban Influence Code', '2013 Rural-urban Continuum Code', 'Unemployment_rate_2017', 'mine', 'Percent of adults with a high school diploma only, 2013-17']].plot.bar()"
   ]
  },
  {
   "cell_type": "markdown",
   "metadata": {},
   "source": [
    "Immediately, I can see that 2013 Urban Influence Code and 2013 Rural-urban Continuum Code might be correlated and therefore would impact any model I would later try and build. Lets correlated these two to determine if both are necessary to explore."
   ]
  },
  {
   "cell_type": "code",
   "execution_count": 12,
   "metadata": {},
   "outputs": [
    {
     "data": {
      "text/plain": [
       "0.8990520448318131"
      ]
     },
     "execution_count": 12,
     "metadata": {},
     "output_type": "execute_result"
    }
   ],
   "source": [
    "df.corr()['2013 Urban Influence Code']['2013 Rural-urban Continuum Code']"
   ]
  },
  {
   "cell_type": "markdown",
   "metadata": {},
   "source": [
    "These two are independent variables are highly correlated.  While there are models which can evaluate the interaction of these variables, for now, it is just something to take note of as we continue our exploration. \n",
    "\n",
    "Next, we will evaluate the the variables with the strongest negative corrleation with the dependent variable. We will use scatter plots for continuous variables, and utilize box plots for categorical variables. For each, we will describe what the data has visualized.\n",
    "\n",
    "We will start with percent of people in poverty."
   ]
  },
  {
   "cell_type": "code",
   "execution_count": 415,
   "metadata": {},
   "outputs": [
    {
     "data": {
      "text/plain": [
       "-0.20721349423006655"
      ]
     },
     "execution_count": 415,
     "metadata": {},
     "output_type": "execute_result"
    },
    {
     "data": {
      "image/png": "[encoded data removed]",
      "text/plain": [
       "<Figure size 432x288 with 1 Axes>"
      ]
     },
     "metadata": {
      "needs_background": "light"
     },
     "output_type": "display_data"
    }
   ],
   "source": [
    "df.plot.scatter(x='PCTPOV517_2017', y='NET_MIG_2017')\n",
    "df.corr()['PCTPOV517_2017']['NET_MIG_2017']"
   ]
  },
  {
   "cell_type": "markdown",
   "metadata": {},
   "source": [
    "Percent poverty had the strongest negative correlation (-0.21) with net migration.  It is intuitive to believe out-migration could be caused by poverty in an area.  The scatterplot shows clustering of in-migration below 20% poverty rates, and clustring of outmigration at between 20% and 30% poverty rates.  Counties with more than 40% poverty rates mainly see out-migration with only a few counties showing in-migration.  \n",
    "\n",
    "Next, we will evaluate the 2013 Urban Influence Code using boxplots."
   ]
  },
  {
   "cell_type": "code",
   "execution_count": 416,
   "metadata": {},
   "outputs": [
    {
     "data": {
      "text/plain": [
       "-0.1928014657322524"
      ]
     },
     "execution_count": 416,
     "metadata": {},
     "output_type": "execute_result"
    },
    {
     "data": {
      "image/png": "[encoded data removed]",
      "text/plain": [
       "<Figure size 432x288 with 1 Axes>"
      ]
     },
     "metadata": {
      "needs_background": "light"
     },
     "output_type": "display_data"
    }
   ],
   "source": [
    "seaborn.boxplot(x='2013 Urban Influence Code', y='NET_MIG_2017', data=df)\n",
    "df.corr()['2013 Urban Influence Code']['NET_MIG_2017']"
   ]
  },
  {
   "cell_type": "markdown",
   "metadata": {},
   "source": [
    "Urban Influence Code had the second strongest negative correlation (-0.19) with net migration.  The Urban Influence Code is, \"a classification scheme that distinguishes metropolitan counties by population size of their metro area, and nonmetropolitan counties by size of the largest city or town and proximity to metro and micropolitan areas.\" The higher the number, the more rural the county.  \n",
    "\n",
    "Interestingly, there are quite a few outliers in this data which will impact future analysis. The trend however remains throughout, everything above code 5 is either near or below equillibrium.\n",
    "\n",
    "One limitation of this data is time difference.  There are four years between when the Urban Influence Code was documented and when the migration data we are using was collected.\n",
    "\n",
    "We will now evaluate Rural-Urban Continuum Code."
   ]
  },
  {
   "cell_type": "code",
   "execution_count": 14,
   "metadata": {},
   "outputs": [
    {
     "data": {
      "text/plain": [
       "-0.1745159074195471"
      ]
     },
     "execution_count": 14,
     "metadata": {},
     "output_type": "execute_result"
    },
    {
     "data": {
      "image/png": "[encoded data removed]",
      "text/plain": [
       "<Figure size 432x288 with 1 Axes>"
      ]
     },
     "metadata": {
      "needs_background": "light"
     },
     "output_type": "display_data"
    }
   ],
   "source": [
    "seaborn.boxplot(x='2013 Rural-urban Continuum Code', y='NET_MIG_2017', data=df)\n",
    "df.corr()['2013 Rural-urban Continuum Code']['NET_MIG_2017']"
   ]
  },
  {
   "cell_type": "markdown",
   "metadata": {},
   "source": [
    "Similar to the Urban Influence Code, the 2013 Rural-urban Continuum Code is an indicator of proximity to the closest metro area. The higher the code, the more rural the county.\n",
    "\n",
    "Again, the higher number codes had strong negative correlations (-0.17) with net migration; however, code 5 seems to have the highest levels of out-migration, breaking from the trend.  Similar to the previous box plots, there are several outliers throughout which impact our ability to analyze the data; however, due to the larger sample size, this should be minimal.\n",
    "\n",
    "It could be interesting to create a band of 1-4 and 5+ to see how this impacts net migration and for later visualization.\n",
    "\n",
    "Lets see how unemployment rate impacts net migration."
   ]
  },
  {
   "cell_type": "code",
   "execution_count": 15,
   "metadata": {},
   "outputs": [
    {
     "data": {
      "text/plain": [
       "-0.1619248178047599"
      ]
     },
     "execution_count": 15,
     "metadata": {},
     "output_type": "execute_result"
    },
    {
     "data": {
      "image/png": "[encoded data removed]",
      "text/plain": [
       "<Figure size 432x288 with 1 Axes>"
      ]
     },
     "metadata": {
      "needs_background": "light"
     },
     "output_type": "display_data"
    }
   ],
   "source": [
    "df.plot.scatter(x='Unemployment_rate_2017', y='NET_MIG_2017')\n",
    "df.corr()['Unemployment_rate_2017']['NET_MIG_2017']"
   ]
  },
  {
   "cell_type": "markdown",
   "metadata": {},
   "source": [
    "There is some clustering of positive net migration at between 2.5%-5% unemployment and after 5% some clustering of negative net migration.  This is intuitive.  People need income to live, and they need jobs to get income.  After about 10% unemployment rate, with only one excepetion, there is only out-migration present.\n",
    "\n",
    "This suggests we might want to group unemployment rate into bins of 0%-5%, 5%-10%, and 10%+ when looking to establish clear visualizations.\n",
    "\n",
    "Next, we are going to look at how mining as the primary economic factor impacts net migration."
   ]
  },
  {
   "cell_type": "code",
   "execution_count": 420,
   "metadata": {},
   "outputs": [
    {
     "data": {
      "text/plain": [
       "-0.13452118466719137"
      ]
     },
     "execution_count": 420,
     "metadata": {},
     "output_type": "execute_result"
    },
    {
     "data": {
      "image/png": "[encoded data removed]",
      "text/plain": [
       "<Figure size 432x288 with 1 Axes>"
      ]
     },
     "metadata": {
      "needs_background": "light"
     },
     "output_type": "display_data"
    }
   ],
   "source": [
    "seaborn.boxplot(x=df['mine'], y=df['NET_MIG_2017'])\n",
    "df.corr()['mine']['NET_MIG_2017']"
   ]
  },
  {
   "cell_type": "markdown",
   "metadata": {},
   "source": [
    "More than 75% of counties where mining is the primary economic factor have out-migration occurring; however, there are many outliers, especially within the counties which do not rely on mining.  These outliers will have an impact on analyses like the correlation (-0.13).  Similar to the previous analysis, it would be interesting to see how mining counties correlate with unemployment.  "
   ]
  },
  {
   "cell_type": "code",
   "execution_count": 421,
   "metadata": {},
   "outputs": [
    {
     "data": {
      "text/plain": [
       "0.1563699732055243"
      ]
     },
     "execution_count": 421,
     "metadata": {},
     "output_type": "execute_result"
    }
   ],
   "source": [
    "df.corr()['mine']['Unemployment_rate_2017']"
   ]
  },
  {
   "cell_type": "markdown",
   "metadata": {},
   "source": [
    "Mining-based economy is positively correlated with unemployment rate.  This suggests jobs might be dwindling in these communities, causing people to move away.  Again, this could lend to additional analyses which could help better understand how these variables impact outmigration.\n",
    "\n",
    "Last, we are going to evaluate how education impacts migration rates."
   ]
  },
  {
   "cell_type": "code",
   "execution_count": 13,
   "metadata": {},
   "outputs": [
    {
     "data": {
      "text/plain": [
       "-0.16159025874972588"
      ]
     },
     "execution_count": 13,
     "metadata": {},
     "output_type": "execute_result"
    },
    {
     "data": {
      "image/png": "[encoded data removed]",
      "text/plain": [
       "<Figure size 432x288 with 1 Axes>"
      ]
     },
     "metadata": {
      "needs_background": "light"
     },
     "output_type": "display_data"
    }
   ],
   "source": [
    "df.plot.scatter(x='Percent of adults with less than a high school diploma, 2013-17', y='NET_MIG_2017')\n",
    "df.corr()['Percent of adults with less than a high school diploma, 2013-17']['NET_MIG_2017']"
   ]
  },
  {
   "cell_type": "markdown",
   "metadata": {},
   "source": [
    "Lack of education of the overall population has a negative correlation (-0.16) with net migration.  There seems to be a clustering of postivie migration in counties where 20% or less do not have a high school diploma, and a similar clustering for negative migration for 10% or more.  \n",
    "\n",
    "It would be interesting to take a look at how this variable correlates with poverty rate."
   ]
  },
  {
   "cell_type": "code",
   "execution_count": null,
   "metadata": {},
   "outputs": [],
   "source": [
    "df.corr()['Percent of adults with less than a high school diploma, 2013-17']['PCTPOV517_2017']"
   ]
  },
  {
   "cell_type": "markdown",
   "metadata": {},
   "source": [
    "As seen above, the correlation with poverty rate is very high (0.68).  This could show the interaction of both of then independent variables on the dependent variable, and could suggest some analyses to run in the future (example: a path analysis).\n",
    "\n",
    "The last thing we are going to do is export the dataframe into a file which can be used by our data visualization tool, in this case Tableau."
   ]
  },
  {
   "cell_type": "code",
   "execution_count": 422,
   "metadata": {},
   "outputs": [],
   "source": [
    "df.to_excel(\"output.xlsx\")"
   ]
  }
 ],
 "metadata": {
  "kernelspec": {
   "display_name": "Python 3",
   "language": "python",
   "name": "python3"
  },
  "language_info": {
   "codemirror_mode": {
    "name": "ipython",
    "version": 3
   },
   "file_extension": ".py",
   "mimetype": "text/x-python",
   "name": "python",
   "nbconvert_exporter": "python",
   "pygments_lexer": "ipython3",
   "version": "3.7.3"
  }
 },
 "nbformat": 4,
 "nbformat_minor": 2
}
